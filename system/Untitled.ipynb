{
 "cells": [
  {
   "cell_type": "code",
   "execution_count": 1,
   "metadata": {},
   "outputs": [],
   "source": [
    "import subprocess\n",
    "def tail(f, n, offset=0):\n",
    "    proc = subprocess.Popen(['tail', '-n', n + offset, f], stdout=subprocess.PIPE)\n",
    "    lines = proc.stdout.readlines()\n",
    "    return lines[:, -offset]"
   ]
  },
  {
   "cell_type": "code",
   "execution_count": null,
   "metadata": {},
   "outputs": [],
   "source": [
    "tail('/opt/workspace/toby/')"
   ]
  }
 ],
 "metadata": {
  "kernelspec": {
   "display_name": "Toby PY3.6",
   "language": "python",
   "name": "toby"
  },
  "language_info": {
   "codemirror_mode": {
    "name": "ipython",
    "version": 3
   },
   "file_extension": ".py",
   "mimetype": "text/x-python",
   "name": "python",
   "nbconvert_exporter": "python",
   "pygments_lexer": "ipython3",
   "version": "3.6.9"
  }
 },
 "nbformat": 4,
 "nbformat_minor": 2
}
